{
 "cells": [
  {
   "cell_type": "code",
   "execution_count": 1,
   "metadata": {},
   "outputs": [],
   "source": [
    "import pandas as pd\n",
    "import numpy as np\n",
    "import seaborn as sns\n",
    "import matplotlib.pyplot as plt\n",
    "from sklearn.linear_model import LinearRegression"
   ]
  },
  {
   "cell_type": "code",
   "execution_count": 2,
   "metadata": {},
   "outputs": [],
   "source": [
    "sns.set()\n",
    "%matplotlib inline"
   ]
  },
  {
   "cell_type": "markdown",
   "metadata": {},
   "source": [
    "__autor__: Henrique Pougy - Supervisor Geral, STEL/CASE\n",
    "\n",
    "# Previsao de Impacto - Deduplicação SLCe\n",
    "\n",
    "## Contexto:\n",
    "\n",
    "O _Sistema Eletrônico de Licenciamento de Construções_ (__SLCe__) \"é uma ferramenta que permite que o cidadão licencie diversos tipos de obras, de pequeno e médio porte, totalmente de forma eletrônica\" (http://bit.ly/slce-descricao). Trata-se do sistema de licenciamento edilício eletrônico da Prefeitura de São Paulo que tem por escopo, grosso modo, os projetos de menor porte, cuja competência de análise é delegada, pela Secretaria Municipal de Licenciamento, aos arquitetos e engenheiros lotados nas Subprefeituras do Munícipio de São Paulo.\n",
    "\n",
    "Implementado ao final de 2012, ele se utiliza de duas ferramentas proprietárias da Microsoft: \n",
    "\n",
    "* o Dynamics CRM versão 2011, responsável pela aplicação propriamente dita; e \n",
    "\n",
    "* o SharePoint 2010 que, integrado ao Dynamics, é responsável pela persistência de dados. \n",
    "\n",
    "Ambas as ferramentas, que não foram originalmente concebidas para modelar o domínio do licenciamento edilício, foram extensamente customizadas para atender às necessidades de modelagem das atividades de licenciamento edilício da Prefeitura no sistema. Tais customizações, ainda que inicialmente funcionais, têm hoje demonstrado sérios problemas de escalabilidade.\n",
    "\n",
    "## O Problema:\n",
    "\n",
    "Uma dessas customizações diz respeito à uma funcionalidade de versionamento dos arquivos das solicitações realizadas no sistema. Basicamente, toda as vezes em que são realizados dois tipos de ação no sistema pelos usuários da Prefeitura - _\"Análise da Solicitação\"_ e _\"Análise de Requisitos Básicos\"_ - são criados novos lotes de arquivos no SharePoint relacionados a essas solicitações. O objetivo destes lotes de arquivos é registrar, como um _snapshot_, a situação exata da documentação relacionada ao processo quando da realização destas ações.\n",
    "\n",
    "No entanto, tais _snapshots_ não são realizados por meio do registro de _hyperlinks_ apontando aos arquivos originais, quando não há modificação nos mesmos. Com efeito eles __geram a duplicação de todos os arquivos que compõem a documentação da solicitação a cada novo lote, replicando todo o seu conteúdo__. Neste cenário, uma solicitação que foi analisada 6 vezes, terá todos os seus arquivos originais (plantas em .dwf, digitalizações dos documentos do requerente etc.) replicados por 5 vezes no sistema.\n",
    "\n",
    "São evidentes as limitações de escalabilidade que essa solução possui. Com efeito, ao longo dos anos, a volumetria ocupada pelo SharePoint cresceu vertiginosamente, __ultrapassando de forma preocupante o valor máximo recomendado pela Microsoft__ (http://bit.ly/limites_Sharepoint), alcançando mais de 4 TeraBytes de dados.\n",
    "\n",
    "## Objetivos deste _report_\n",
    "\n",
    "Este _report_ tem por objetivo principal realizar uma __previsão de impacto, baseada em evidências, de uma ação de deduplicação dos arquivos do SLCe__. Ele busca avaliar e sensibilizar os tomadores de decisão sobre os possíveis benefícios de tal ação - que, como veremos ao final, são elevados.\n",
    "\n",
    "O _report_ se vale de uma base de dados extraída em 2018, em formato .xlsx, que tinha por objetivo original gerar um relatório gerencial de produtividade dos servidores da PMSP no sistema. Para isso, o autor do relatório gerencial construiu indicadores relacionados à quantidade de ações realizadas por usuário em um determinado período de tempo, a duração dessas ações, entre outras informações. Para construção dos gráficos e indicadores ali presentes, foram utilizados os dados relacionados à todas as ações realizadas no sistema por usuários da Prefeitura à época, extraídos do banco de dados do sistema em 2018.\n",
    "\n",
    "Por sorte - e confirmando aqui o valor dessa boa prática - os microdados que fundamentaram o report foram adicionados ao arquivo. É com base neles que desenvolvemos estes report. Estes mesmos microdados são disponibilizados, após remoção de dados pessoais e padronização do formato, no arquivo \"dados_limpos.xlsx\" que consta neste repositório.\n",
    "\n",
    "## Metodologia\n",
    "\n",
    "Os microdados das ações realizadas no sistema pelos usuários da PMSP no período compreendido entre outubro de 2012 e agosto de 2018 são aqui analisados para identificar e quantificar com precisão __todas as ações realizadas no sistema neste período que geraram duplicação de arquivos__. Isto requer a realização de diversas filtragens nos dados originais, para garantir que se tratam de fato de:\n",
    "\n",
    "* Ações que foram realizadas sobre processos digitais (e não processos em papel);\n",
    "* Que foram feitas sobre processos que foram protocolados com sucesso (e não em rascunho, cancelados etc.);\n",
    "* Que estão dentre as ações que de fato geram duplicação (conforme mencionado acima); e,\n",
    "* Por fim, que foram ações de fato concluídas, e não apenas iniciadas ou canceladas;\n",
    "\n",
    "Uma vez realizada a filtragem no _dataset_ original, realizamos em seguida uma análise estatística descritiva simples. Esta análise permite entender melhor como se dá a distribuição das duplicações de dados nos protocolos do sistema. Os principais resultados desta análise são a quantidade média de ações que geram duplicação por solicitação no sistema, além da proporção da quantidade de arquivos originais em relação aos duplicados.\n",
    "\n",
    "Em seguida, realizamos uma projeção da quantidade de ações que geram duplicação de arquivos no sistema em função do tempo. Esta projeção, obtida através da modelagem estatística dos dados (Regressão Linear Simples), que obteve alto coeficiente de determinação e significância estatística, permite estimar a quantidade de lotes de arquivos a serem afetados por uma desduplicação a ser realizada hoje.\n",
    "\n",
    "\n",
    "## Resultados encontrados:\n",
    "\n",
    "__Mediana de ações que geram duplicação por protocolo__ : 2 por protocolo\n",
    "\n",
    "__Proporção do banco de dados desduplicado__ : aprox. 40% da volumetria de armazenagem de arquivos em 2018\n",
    "\n",
    "__Estimativa de lotes a serem afetados pela desduplicação__ : aprox. 100 mil lotes\n",
    "\n",
    "Conforme dados apresentandos acima, este _report_ conclui que a ação de deduplicação de arquivos no sistema SLCe será altamente benéfica. Ela é, portanto, __altamente recomendada__."
   ]
  },
  {
   "cell_type": "markdown",
   "metadata": {},
   "source": [
    "## Limpeza e preparação dos dados"
   ]
  },
  {
   "cell_type": "markdown",
   "metadata": {},
   "source": [
    "Na célula abaixo carregamos e limpamos os dados brutos, provenientes de um relatório de gestão de 2018 do sistema (que não salvaremos no repositório por conter dados pessoais/sensíveis)."
   ]
  },
  {
   "cell_type": "code",
   "execution_count": 3,
   "metadata": {},
   "outputs": [],
   "source": [
    "def load_and_clean_data():\n",
    "    \n",
    "    df = pd.read_excel('SLCe_Histórico_Atividades_10AGO2018.xlsm', sheet_name = 'Base de Dados', dtype = 'object')\n",
    "    \n",
    "    #converter colunas para datetime\n",
    "    dtimes = [\n",
    "    'Data de Início da atividade',\n",
    "    'Data de Conclusão da atividade',\n",
    "    'Data de Abertura do Processo',\n",
    "    'Data de Publicação do Despacho',\n",
    "         ]\n",
    "    for series in dtimes:\n",
    "        df[series] = pd.to_datetime(df[series], errors = 'coerce')\n",
    "        \n",
    "    #remover sujeira da planilha\n",
    "    unnameds = [col for col in df.columns if col.startswith('Unnamed')]\n",
    "    df.drop(unnameds, axis = 1, inplace = True)\n",
    "    \n",
    "    #coloca numero de protocolo como string\n",
    "    df['Número do Protocolo'] = df['Número do Protocolo'].astype(str)\n",
    "    \n",
    "    #remover os nomes dos usuários\n",
    "    dados_pessoais = ['Usuário da tarefa']\n",
    "    df.drop(dados_pessoais, axis=1, inplace = True)\n",
    "    \n",
    "    #podemos recalcular essa coluna depois\n",
    "    df.drop('Tempo da Atividade', axis = 1, inplace = True)\n",
    "    \n",
    "    #acho util sempre criar uma coluna de contador\n",
    "    df['count'] = 1\n",
    "    \n",
    "    return df"
   ]
  },
  {
   "cell_type": "markdown",
   "metadata": {},
   "source": [
    "Como podemos notar, o dataset original possui mais de 250 mil registros, todos eles correspondendo a ações realizadas por usuários da Prefeitura no SLCe, ocorridas no período compreendido entre outubro de 2012 e agosto de 2018."
   ]
  },
  {
   "cell_type": "code",
   "execution_count": 4,
   "metadata": {},
   "outputs": [
    {
     "name": "stdout",
     "output_type": "stream",
     "text": [
      "Ao todo são 250725 registros\n",
      "A data de inicio do dataset é 2012-10-09 00:00:00\n",
      "A data de inicio do dataset é 2012-10-09 00:00:00\n"
     ]
    }
   ],
   "source": [
    "#df = load_and_clean_data()\n",
    "#df.to_excel('dados_limpos.xlsx', index = False)\n",
    "df = pd.read_excel('dados_limpos.xlsx')\n",
    "print(f'Ao todo são {len(df)} registros')\n",
    "dt_ini = df['Data de Início da atividade'].min()\n",
    "print(f'A data de inicio do dataset é {dt_ini}')\n",
    "dt_ini = df['Data de Início da atividade'].min()\n",
    "print(f'A data de inicio do dataset é {dt_ini}')"
   ]
  },
  {
   "cell_type": "code",
   "execution_count": 5,
   "metadata": {},
   "outputs": [
    {
     "data": {
      "text/html": [
       "<div>\n",
       "<style scoped>\n",
       "    .dataframe tbody tr th:only-of-type {\n",
       "        vertical-align: middle;\n",
       "    }\n",
       "\n",
       "    .dataframe tbody tr th {\n",
       "        vertical-align: top;\n",
       "    }\n",
       "\n",
       "    .dataframe thead th {\n",
       "        text-align: right;\n",
       "    }\n",
       "</style>\n",
       "<table border=\"1\" class=\"dataframe\">\n",
       "  <thead>\n",
       "    <tr style=\"text-align: right;\">\n",
       "      <th></th>\n",
       "      <th>Data de Início da atividade</th>\n",
       "      <th>Data de Conclusão da atividade</th>\n",
       "      <th>Status da Atividade</th>\n",
       "      <th>Tipo de Atividade</th>\n",
       "      <th>Número do Processo</th>\n",
       "      <th>Data de Abertura do Processo</th>\n",
       "      <th>Número do Protocolo</th>\n",
       "      <th>Assunto</th>\n",
       "      <th>Situação da Solicitação</th>\n",
       "      <th>Competência</th>\n",
       "      <th>Unidade Administrativa</th>\n",
       "      <th>Tipo da Solicitação</th>\n",
       "      <th>Data de Publicação do Despacho</th>\n",
       "      <th>Ano/Mês Data de Início da Atividade</th>\n",
       "      <th>Papelizados</th>\n",
       "      <th>count</th>\n",
       "    </tr>\n",
       "  </thead>\n",
       "  <tbody>\n",
       "    <tr>\n",
       "      <td>0</td>\n",
       "      <td>2012-10-09</td>\n",
       "      <td>2012-10-31</td>\n",
       "      <td>Concluída</td>\n",
       "      <td>Busca de BDT</td>\n",
       "      <td>2012-0.290.531-1</td>\n",
       "      <td>2012-10-09</td>\n",
       "      <td>248-12</td>\n",
       "      <td>Alvará de Aprovação de Edificação Nova</td>\n",
       "      <td>Indeferido</td>\n",
       "      <td>SMPR</td>\n",
       "      <td>Prefeitura Regional Ipiranga</td>\n",
       "      <td>Inicial</td>\n",
       "      <td>2014-10-24</td>\n",
       "      <td>2012 10</td>\n",
       "      <td>Não Papelizado</td>\n",
       "      <td>1</td>\n",
       "    </tr>\n",
       "    <tr>\n",
       "      <td>1</td>\n",
       "      <td>2012-10-10</td>\n",
       "      <td>2012-10-29</td>\n",
       "      <td>Concluída</td>\n",
       "      <td>Busca de BDT</td>\n",
       "      <td>2012-0.291.510-4</td>\n",
       "      <td>2012-10-10</td>\n",
       "      <td>647-12</td>\n",
       "      <td>Alvará de Licença para Residências Unifamiliares</td>\n",
       "      <td>Indeferido</td>\n",
       "      <td>SMPR</td>\n",
       "      <td>Prefeitura Regional Aricanduva - Formosa - Carrão</td>\n",
       "      <td>Inicial</td>\n",
       "      <td>2013-06-19</td>\n",
       "      <td>2012 10</td>\n",
       "      <td>Não Papelizado</td>\n",
       "      <td>1</td>\n",
       "    </tr>\n",
       "    <tr>\n",
       "      <td>2</td>\n",
       "      <td>2012-10-10</td>\n",
       "      <td>2013-01-17</td>\n",
       "      <td>Concluída</td>\n",
       "      <td>Busca de BDT</td>\n",
       "      <td>2012-0.291.511-2</td>\n",
       "      <td>2012-10-10</td>\n",
       "      <td>79-12</td>\n",
       "      <td>Alvará de Aprovação de Reforma</td>\n",
       "      <td>Indeferido</td>\n",
       "      <td>SMPR</td>\n",
       "      <td>Prefeitura Regional Sé</td>\n",
       "      <td>Inicial</td>\n",
       "      <td>2014-03-07</td>\n",
       "      <td>2012 10</td>\n",
       "      <td>Não Papelizado</td>\n",
       "      <td>1</td>\n",
       "    </tr>\n",
       "    <tr>\n",
       "      <td>3</td>\n",
       "      <td>2012-10-10</td>\n",
       "      <td>2012-10-30</td>\n",
       "      <td>Concluída</td>\n",
       "      <td>Busca de BDT</td>\n",
       "      <td>2012-0.291.512-0</td>\n",
       "      <td>2012-10-10</td>\n",
       "      <td>523-12</td>\n",
       "      <td>Alvará de Aprovação de Edificação Nova</td>\n",
       "      <td>Deferido</td>\n",
       "      <td>SMPR</td>\n",
       "      <td>Prefeitura Regional Mooca</td>\n",
       "      <td>Inicial</td>\n",
       "      <td>2014-10-31</td>\n",
       "      <td>2012 10</td>\n",
       "      <td>Não Papelizado</td>\n",
       "      <td>1</td>\n",
       "    </tr>\n",
       "    <tr>\n",
       "      <td>4</td>\n",
       "      <td>2012-10-10</td>\n",
       "      <td>2012-10-30</td>\n",
       "      <td>Concluída</td>\n",
       "      <td>Busca de BDT</td>\n",
       "      <td>2012-0.291.513-9</td>\n",
       "      <td>2012-10-10</td>\n",
       "      <td>660-12</td>\n",
       "      <td>Alvará de Aprovação de Edificação Nova</td>\n",
       "      <td>Indeferido</td>\n",
       "      <td>SMPR</td>\n",
       "      <td>Prefeitura Regional Penha</td>\n",
       "      <td>Inicial</td>\n",
       "      <td>2013-10-03</td>\n",
       "      <td>2012 10</td>\n",
       "      <td>Não Papelizado</td>\n",
       "      <td>1</td>\n",
       "    </tr>\n",
       "  </tbody>\n",
       "</table>\n",
       "</div>"
      ],
      "text/plain": [
       "  Data de Início da atividade Data de Conclusão da atividade  \\\n",
       "0                  2012-10-09                     2012-10-31   \n",
       "1                  2012-10-10                     2012-10-29   \n",
       "2                  2012-10-10                     2013-01-17   \n",
       "3                  2012-10-10                     2012-10-30   \n",
       "4                  2012-10-10                     2012-10-30   \n",
       "\n",
       "  Status da Atividade Tipo de Atividade Número do Processo  \\\n",
       "0           Concluída      Busca de BDT   2012-0.290.531-1   \n",
       "1           Concluída      Busca de BDT   2012-0.291.510-4   \n",
       "2           Concluída      Busca de BDT   2012-0.291.511-2   \n",
       "3           Concluída      Busca de BDT   2012-0.291.512-0   \n",
       "4           Concluída      Busca de BDT   2012-0.291.513-9   \n",
       "\n",
       "  Data de Abertura do Processo Número do Protocolo  \\\n",
       "0                   2012-10-09              248-12   \n",
       "1                   2012-10-10              647-12   \n",
       "2                   2012-10-10               79-12   \n",
       "3                   2012-10-10              523-12   \n",
       "4                   2012-10-10              660-12   \n",
       "\n",
       "                                            Assunto Situação da Solicitação  \\\n",
       "0            Alvará de Aprovação de Edificação Nova              Indeferido   \n",
       "1  Alvará de Licença para Residências Unifamiliares              Indeferido   \n",
       "2                    Alvará de Aprovação de Reforma              Indeferido   \n",
       "3            Alvará de Aprovação de Edificação Nova                Deferido   \n",
       "4            Alvará de Aprovação de Edificação Nova              Indeferido   \n",
       "\n",
       "  Competência                             Unidade Administrativa  \\\n",
       "0        SMPR                       Prefeitura Regional Ipiranga   \n",
       "1        SMPR  Prefeitura Regional Aricanduva - Formosa - Carrão   \n",
       "2        SMPR                             Prefeitura Regional Sé   \n",
       "3        SMPR                          Prefeitura Regional Mooca   \n",
       "4        SMPR                          Prefeitura Regional Penha   \n",
       "\n",
       "  Tipo da Solicitação Data de Publicação do Despacho  \\\n",
       "0             Inicial                     2014-10-24   \n",
       "1             Inicial                     2013-06-19   \n",
       "2             Inicial                     2014-03-07   \n",
       "3             Inicial                     2014-10-31   \n",
       "4             Inicial                     2013-10-03   \n",
       "\n",
       "  Ano/Mês Data de Início da Atividade     Papelizados  count  \n",
       "0                             2012 10  Não Papelizado      1  \n",
       "1                             2012 10  Não Papelizado      1  \n",
       "2                             2012 10  Não Papelizado      1  \n",
       "3                             2012 10  Não Papelizado      1  \n",
       "4                             2012 10  Não Papelizado      1  "
      ]
     },
     "execution_count": 5,
     "metadata": {},
     "output_type": "execute_result"
    }
   ],
   "source": [
    "df.head()"
   ]
  },
  {
   "cell_type": "markdown",
   "metadata": {},
   "source": [
    "Na celula abaixo, definimos as funcoes que filtram o _dataset_. Tal tarefa é necessária para que possamos identificar especificamente todas as __ações que geraram duplicação de lotes de arquivos no sistema__. Para isso, identificamos:\n",
    "\n",
    "* Todas as ações realizadas sobre processos inteiramente digitais (\"não-papelizados\", nos termos do _dataset_);\n",
    "* Que foram feitas sobre protocolos válidos (isto é, que não são de processos físicos, que não foram cancelados e que tampouco estão \"em rascunho\");\n",
    "* Que estão entre as ações que geram duplicação de arquivos ('Análise da Solicitação' e 'Análise de Requisitos Básicos'); e\n",
    "* Por fim, que foram devidamente concluídas no sistema\n",
    "\n",
    "As funções abaixo realizam a identificação de tais ações. Elas são aplicadas ao _dataset_ em seguida."
   ]
  },
  {
   "cell_type": "code",
   "execution_count": 6,
   "metadata": {},
   "outputs": [],
   "source": [
    "def apenas_atividades_concluidas(df):\n",
    "    \n",
    "\n",
    "    atividades_concluidas = df['Status da Atividade']=='Concluída'\n",
    "    df = df[atividades_concluidas].copy().reset_index(drop=True)\n",
    "    \n",
    "    return df\n",
    "\n",
    "def atividades_geram_duplicacao(df):\n",
    "    \n",
    "    atividades_duplicacao = [\n",
    "    'Análise da Solicitação',\n",
    "    'Análise de Requisitos Básicos'\n",
    "    ]\n",
    "\n",
    "    filtro_atividade = df['Tipo de Atividade'].isin(atividades_duplicacao)\n",
    "    \n",
    "    df = df[filtro_atividade].copy().reset_index(drop=True)\n",
    "    \n",
    "    return df\n",
    "\n",
    "def situacoes_protocolo_corretas(df):\n",
    "    \n",
    "    situacoes_ruins = [\n",
    "            'Em Rascunho',\n",
    "            'Processo Físico',\n",
    "            'Cancelado',\n",
    "    ]\n",
    "\n",
    "    filtro_situacao = ~df['Situação da Solicitação'].isin(situacoes_ruins)\n",
    "\n",
    "    df = df[filtro_situacao].copy().reset_index(drop=True)\n",
    "    \n",
    "    return df\n",
    "\n",
    "def nao_papelizado(df):\n",
    "    \n",
    "    filtro_papelizado = df['Papelizados']!='Processo Papelizado'\n",
    "    \n",
    "    df = df[filtro_papelizado].copy().reset_index(drop=True)\n",
    "    \n",
    "    return df"
   ]
  },
  {
   "cell_type": "code",
   "execution_count": 7,
   "metadata": {},
   "outputs": [
    {
     "name": "stdout",
     "output_type": "stream",
     "text": [
      "Tipos de atividade no dataset: Análise da Solicitação, Análise de Requisitos Básicos\n"
     ]
    },
    {
     "data": {
      "text/html": [
       "<div>\n",
       "<style scoped>\n",
       "    .dataframe tbody tr th:only-of-type {\n",
       "        vertical-align: middle;\n",
       "    }\n",
       "\n",
       "    .dataframe tbody tr th {\n",
       "        vertical-align: top;\n",
       "    }\n",
       "\n",
       "    .dataframe thead th {\n",
       "        text-align: right;\n",
       "    }\n",
       "</style>\n",
       "<table border=\"1\" class=\"dataframe\">\n",
       "  <thead>\n",
       "    <tr style=\"text-align: right;\">\n",
       "      <th></th>\n",
       "      <th>Data de Início da atividade</th>\n",
       "      <th>Data de Conclusão da atividade</th>\n",
       "      <th>Status da Atividade</th>\n",
       "      <th>Tipo de Atividade</th>\n",
       "      <th>Número do Processo</th>\n",
       "      <th>Data de Abertura do Processo</th>\n",
       "      <th>Número do Protocolo</th>\n",
       "      <th>Assunto</th>\n",
       "      <th>Situação da Solicitação</th>\n",
       "      <th>Competência</th>\n",
       "      <th>Unidade Administrativa</th>\n",
       "      <th>Tipo da Solicitação</th>\n",
       "      <th>Data de Publicação do Despacho</th>\n",
       "      <th>Ano/Mês Data de Início da Atividade</th>\n",
       "      <th>Papelizados</th>\n",
       "      <th>count</th>\n",
       "    </tr>\n",
       "  </thead>\n",
       "  <tbody>\n",
       "    <tr>\n",
       "      <td>0</td>\n",
       "      <td>2012-10-18</td>\n",
       "      <td>2013-02-07</td>\n",
       "      <td>Concluída</td>\n",
       "      <td>Análise da Solicitação</td>\n",
       "      <td>2012-0.292.421-9</td>\n",
       "      <td>2012-10-10</td>\n",
       "      <td>663-12</td>\n",
       "      <td>Alvará de Aprovação de Edificação Nova</td>\n",
       "      <td>Indeferido</td>\n",
       "      <td>SMPR</td>\n",
       "      <td>Prefeitura Regional do Butantã</td>\n",
       "      <td>Inicial</td>\n",
       "      <td>2013-10-19</td>\n",
       "      <td>2012 10</td>\n",
       "      <td>Não Papelizado</td>\n",
       "      <td>1</td>\n",
       "    </tr>\n",
       "    <tr>\n",
       "      <td>1</td>\n",
       "      <td>2012-10-23</td>\n",
       "      <td>2012-11-01</td>\n",
       "      <td>Concluída</td>\n",
       "      <td>Análise da Solicitação</td>\n",
       "      <td>2012-0.292.446-4</td>\n",
       "      <td>2012-10-10</td>\n",
       "      <td>419-12</td>\n",
       "      <td>Alvará de Aprovação de Reforma</td>\n",
       "      <td>Deferido</td>\n",
       "      <td>SMUL</td>\n",
       "      <td>RESID</td>\n",
       "      <td>Inicial</td>\n",
       "      <td>2012-12-29</td>\n",
       "      <td>2012 10</td>\n",
       "      <td>Não Papelizado</td>\n",
       "      <td>1</td>\n",
       "    </tr>\n",
       "    <tr>\n",
       "      <td>2</td>\n",
       "      <td>2012-10-24</td>\n",
       "      <td>2013-07-30</td>\n",
       "      <td>Concluída</td>\n",
       "      <td>Análise da Solicitação</td>\n",
       "      <td>2012-0.297.055-5</td>\n",
       "      <td>2012-10-17</td>\n",
       "      <td>539-12</td>\n",
       "      <td>Alvará de Aprovação de Edificação Nova</td>\n",
       "      <td>Indeferido</td>\n",
       "      <td>SMPR</td>\n",
       "      <td>Prefeitura Regional Freguesia do Ó - Brasilandia</td>\n",
       "      <td>Inicial</td>\n",
       "      <td>2014-02-21</td>\n",
       "      <td>2012 10</td>\n",
       "      <td>Não Papelizado</td>\n",
       "      <td>1</td>\n",
       "    </tr>\n",
       "    <tr>\n",
       "      <td>3</td>\n",
       "      <td>2012-10-24</td>\n",
       "      <td>2012-11-01</td>\n",
       "      <td>Concluída</td>\n",
       "      <td>Análise da Solicitação</td>\n",
       "      <td>2012-0.296.832-1</td>\n",
       "      <td>2012-10-16</td>\n",
       "      <td>393-12</td>\n",
       "      <td>Alvará de Aprovação de Edificação Nova</td>\n",
       "      <td>Deferido</td>\n",
       "      <td>SMUL</td>\n",
       "      <td>SERVIN</td>\n",
       "      <td>Inicial</td>\n",
       "      <td>2012-12-27</td>\n",
       "      <td>2012 10</td>\n",
       "      <td>Não Papelizado</td>\n",
       "      <td>1</td>\n",
       "    </tr>\n",
       "    <tr>\n",
       "      <td>4</td>\n",
       "      <td>2012-10-24</td>\n",
       "      <td>2013-08-27</td>\n",
       "      <td>Concluída</td>\n",
       "      <td>Análise da Solicitação</td>\n",
       "      <td>2012-0.297.053-9</td>\n",
       "      <td>2012-10-17</td>\n",
       "      <td>278-12</td>\n",
       "      <td>Alvará de Aprovação de Reforma</td>\n",
       "      <td>Indeferido</td>\n",
       "      <td>SMUL</td>\n",
       "      <td>RESID</td>\n",
       "      <td>Inicial</td>\n",
       "      <td>2016-07-05</td>\n",
       "      <td>2012 10</td>\n",
       "      <td>Não Papelizado</td>\n",
       "      <td>1</td>\n",
       "    </tr>\n",
       "  </tbody>\n",
       "</table>\n",
       "</div>"
      ],
      "text/plain": [
       "  Data de Início da atividade Data de Conclusão da atividade  \\\n",
       "0                  2012-10-18                     2013-02-07   \n",
       "1                  2012-10-23                     2012-11-01   \n",
       "2                  2012-10-24                     2013-07-30   \n",
       "3                  2012-10-24                     2012-11-01   \n",
       "4                  2012-10-24                     2013-08-27   \n",
       "\n",
       "  Status da Atividade       Tipo de Atividade Número do Processo  \\\n",
       "0           Concluída  Análise da Solicitação   2012-0.292.421-9   \n",
       "1           Concluída  Análise da Solicitação   2012-0.292.446-4   \n",
       "2           Concluída  Análise da Solicitação   2012-0.297.055-5   \n",
       "3           Concluída  Análise da Solicitação   2012-0.296.832-1   \n",
       "4           Concluída  Análise da Solicitação   2012-0.297.053-9   \n",
       "\n",
       "  Data de Abertura do Processo Número do Protocolo  \\\n",
       "0                   2012-10-10              663-12   \n",
       "1                   2012-10-10              419-12   \n",
       "2                   2012-10-17              539-12   \n",
       "3                   2012-10-16              393-12   \n",
       "4                   2012-10-17              278-12   \n",
       "\n",
       "                                  Assunto Situação da Solicitação Competência  \\\n",
       "0  Alvará de Aprovação de Edificação Nova              Indeferido        SMPR   \n",
       "1          Alvará de Aprovação de Reforma                Deferido        SMUL   \n",
       "2  Alvará de Aprovação de Edificação Nova              Indeferido        SMPR   \n",
       "3  Alvará de Aprovação de Edificação Nova                Deferido        SMUL   \n",
       "4          Alvará de Aprovação de Reforma              Indeferido        SMUL   \n",
       "\n",
       "                             Unidade Administrativa Tipo da Solicitação  \\\n",
       "0                    Prefeitura Regional do Butantã             Inicial   \n",
       "1                                             RESID             Inicial   \n",
       "2  Prefeitura Regional Freguesia do Ó - Brasilandia             Inicial   \n",
       "3                                            SERVIN             Inicial   \n",
       "4                                             RESID             Inicial   \n",
       "\n",
       "  Data de Publicação do Despacho Ano/Mês Data de Início da Atividade  \\\n",
       "0                     2013-10-19                             2012 10   \n",
       "1                     2012-12-29                             2012 10   \n",
       "2                     2014-02-21                             2012 10   \n",
       "3                     2012-12-27                             2012 10   \n",
       "4                     2016-07-05                             2012 10   \n",
       "\n",
       "      Papelizados  count  \n",
       "0  Não Papelizado      1  \n",
       "1  Não Papelizado      1  \n",
       "2  Não Papelizado      1  \n",
       "3  Não Papelizado      1  \n",
       "4  Não Papelizado      1  "
      ]
     },
     "execution_count": 7,
     "metadata": {},
     "output_type": "execute_result"
    }
   ],
   "source": [
    "#abaixo as funções acima definidas são chamadas em cadeia\n",
    "\n",
    "df = apenas_atividades_concluidas(\n",
    "    atividades_geram_duplicacao(\n",
    "        situacoes_protocolo_corretas(\n",
    "            nao_papelizado(df)\n",
    "            )\n",
    "        )\n",
    "    )\n",
    "print('Tipos de atividade no dataset: ' + ', '.join(df['Tipo de Atividade'].unique()))\n",
    "df.head()"
   ]
  },
  {
   "cell_type": "markdown",
   "metadata": {},
   "source": [
    "No entanto, apesar da filtragem realizada acima, permanece um problema, que indica uma inconsistência de dados no _dataset_: há um percentual (menos de 5%) de ações que, ainda que tenha sido conluídas no sistema, possuem o parâmetro de \"Data de Conclusão\" como nulo. Decidimos remover tais registros do _dataset_."
   ]
  },
  {
   "cell_type": "code",
   "execution_count": 8,
   "metadata": {},
   "outputs": [
    {
     "name": "stdout",
     "output_type": "stream",
     "text": [
      "Proporção de atividades concluídas sem data é de 0.04637437485524092\n"
     ]
    },
    {
     "data": {
      "text/html": [
       "<div>\n",
       "<style scoped>\n",
       "    .dataframe tbody tr th:only-of-type {\n",
       "        vertical-align: middle;\n",
       "    }\n",
       "\n",
       "    .dataframe tbody tr th {\n",
       "        vertical-align: top;\n",
       "    }\n",
       "\n",
       "    .dataframe thead th {\n",
       "        text-align: right;\n",
       "    }\n",
       "</style>\n",
       "<table border=\"1\" class=\"dataframe\">\n",
       "  <thead>\n",
       "    <tr style=\"text-align: right;\">\n",
       "      <th></th>\n",
       "      <th>Data de Início da atividade</th>\n",
       "      <th>Data de Conclusão da atividade</th>\n",
       "      <th>Status da Atividade</th>\n",
       "      <th>Tipo de Atividade</th>\n",
       "      <th>Número do Processo</th>\n",
       "      <th>Data de Abertura do Processo</th>\n",
       "      <th>Número do Protocolo</th>\n",
       "      <th>Assunto</th>\n",
       "      <th>Situação da Solicitação</th>\n",
       "      <th>Competência</th>\n",
       "      <th>Unidade Administrativa</th>\n",
       "      <th>Tipo da Solicitação</th>\n",
       "      <th>Data de Publicação do Despacho</th>\n",
       "      <th>Ano/Mês Data de Início da Atividade</th>\n",
       "      <th>Papelizados</th>\n",
       "      <th>count</th>\n",
       "    </tr>\n",
       "  </thead>\n",
       "  <tbody>\n",
       "    <tr>\n",
       "      <td>396</td>\n",
       "      <td>2013-01-07</td>\n",
       "      <td>NaT</td>\n",
       "      <td>Concluída</td>\n",
       "      <td>Análise da Solicitação</td>\n",
       "      <td>2012-0.355.875-5</td>\n",
       "      <td>2012-12-21</td>\n",
       "      <td>6175-12</td>\n",
       "      <td>Alvará de Desdobro de Lote</td>\n",
       "      <td>Indeferido</td>\n",
       "      <td>SMPR</td>\n",
       "      <td>Prefeitura Regional Mooca</td>\n",
       "      <td>Inicial</td>\n",
       "      <td>2018-03-30</td>\n",
       "      <td>2013 01</td>\n",
       "      <td>Não Papelizado</td>\n",
       "      <td>1</td>\n",
       "    </tr>\n",
       "    <tr>\n",
       "      <td>1803</td>\n",
       "      <td>2013-04-15</td>\n",
       "      <td>NaT</td>\n",
       "      <td>Concluída</td>\n",
       "      <td>Análise da Solicitação</td>\n",
       "      <td>2013-0.103.678-8</td>\n",
       "      <td>2013-04-11</td>\n",
       "      <td>6349-13</td>\n",
       "      <td>Alvará de Aprovação de Edificação Nova</td>\n",
       "      <td>Indeferido</td>\n",
       "      <td>SMPR</td>\n",
       "      <td>Prefeitura Regional Lapa</td>\n",
       "      <td>Inicial</td>\n",
       "      <td>2018-02-27</td>\n",
       "      <td>2013 04</td>\n",
       "      <td>Não Papelizado</td>\n",
       "      <td>1</td>\n",
       "    </tr>\n",
       "    <tr>\n",
       "      <td>2971</td>\n",
       "      <td>2013-06-07</td>\n",
       "      <td>NaT</td>\n",
       "      <td>Concluída</td>\n",
       "      <td>Análise da Solicitação</td>\n",
       "      <td>2013-0.159.982-0</td>\n",
       "      <td>2013-06-06</td>\n",
       "      <td>10273-13</td>\n",
       "      <td>Alvará de Aprovação de Edificação Nova</td>\n",
       "      <td>Indeferido</td>\n",
       "      <td>SMPR</td>\n",
       "      <td>Prefeitura Regional Ermelino Matarazzo</td>\n",
       "      <td>Inicial</td>\n",
       "      <td>2018-04-10</td>\n",
       "      <td>2013 06</td>\n",
       "      <td>Não Papelizado</td>\n",
       "      <td>1</td>\n",
       "    </tr>\n",
       "    <tr>\n",
       "      <td>2988</td>\n",
       "      <td>2013-06-07</td>\n",
       "      <td>NaT</td>\n",
       "      <td>Concluída</td>\n",
       "      <td>Análise da Solicitação</td>\n",
       "      <td>2013-0.159.997-9</td>\n",
       "      <td>2013-06-06</td>\n",
       "      <td>10374-13</td>\n",
       "      <td>Alvará de Aprovação de Edificação Nova</td>\n",
       "      <td>Processando Comunique-se</td>\n",
       "      <td>SMPR</td>\n",
       "      <td>Prefeitura Regional Ermelino Matarazzo</td>\n",
       "      <td>Inicial</td>\n",
       "      <td>NaT</td>\n",
       "      <td>2013 06</td>\n",
       "      <td>Não Papelizado</td>\n",
       "      <td>1</td>\n",
       "    </tr>\n",
       "    <tr>\n",
       "      <td>3169</td>\n",
       "      <td>2013-06-14</td>\n",
       "      <td>NaT</td>\n",
       "      <td>Concluída</td>\n",
       "      <td>Análise da Solicitação</td>\n",
       "      <td>2013-0.167.372-9</td>\n",
       "      <td>2013-06-13</td>\n",
       "      <td>10148-13</td>\n",
       "      <td>Alvará de Aprovação de Edificação Nova</td>\n",
       "      <td>Indeferido</td>\n",
       "      <td>SMPR</td>\n",
       "      <td>Prefeitura Regional Ermelino Matarazzo</td>\n",
       "      <td>Inicial</td>\n",
       "      <td>2018-02-08</td>\n",
       "      <td>2013 06</td>\n",
       "      <td>Não Papelizado</td>\n",
       "      <td>1</td>\n",
       "    </tr>\n",
       "  </tbody>\n",
       "</table>\n",
       "</div>"
      ],
      "text/plain": [
       "     Data de Início da atividade Data de Conclusão da atividade  \\\n",
       "396                   2013-01-07                            NaT   \n",
       "1803                  2013-04-15                            NaT   \n",
       "2971                  2013-06-07                            NaT   \n",
       "2988                  2013-06-07                            NaT   \n",
       "3169                  2013-06-14                            NaT   \n",
       "\n",
       "     Status da Atividade       Tipo de Atividade Número do Processo  \\\n",
       "396            Concluída  Análise da Solicitação   2012-0.355.875-5   \n",
       "1803           Concluída  Análise da Solicitação   2013-0.103.678-8   \n",
       "2971           Concluída  Análise da Solicitação   2013-0.159.982-0   \n",
       "2988           Concluída  Análise da Solicitação   2013-0.159.997-9   \n",
       "3169           Concluída  Análise da Solicitação   2013-0.167.372-9   \n",
       "\n",
       "     Data de Abertura do Processo Número do Protocolo  \\\n",
       "396                    2012-12-21             6175-12   \n",
       "1803                   2013-04-11             6349-13   \n",
       "2971                   2013-06-06            10273-13   \n",
       "2988                   2013-06-06            10374-13   \n",
       "3169                   2013-06-13            10148-13   \n",
       "\n",
       "                                     Assunto   Situação da Solicitação  \\\n",
       "396               Alvará de Desdobro de Lote                Indeferido   \n",
       "1803  Alvará de Aprovação de Edificação Nova                Indeferido   \n",
       "2971  Alvará de Aprovação de Edificação Nova                Indeferido   \n",
       "2988  Alvará de Aprovação de Edificação Nova  Processando Comunique-se   \n",
       "3169  Alvará de Aprovação de Edificação Nova                Indeferido   \n",
       "\n",
       "     Competência                  Unidade Administrativa Tipo da Solicitação  \\\n",
       "396         SMPR               Prefeitura Regional Mooca             Inicial   \n",
       "1803        SMPR                Prefeitura Regional Lapa             Inicial   \n",
       "2971        SMPR  Prefeitura Regional Ermelino Matarazzo             Inicial   \n",
       "2988        SMPR  Prefeitura Regional Ermelino Matarazzo             Inicial   \n",
       "3169        SMPR  Prefeitura Regional Ermelino Matarazzo             Inicial   \n",
       "\n",
       "     Data de Publicação do Despacho Ano/Mês Data de Início da Atividade  \\\n",
       "396                      2018-03-30                             2013 01   \n",
       "1803                     2018-02-27                             2013 04   \n",
       "2971                     2018-04-10                             2013 06   \n",
       "2988                            NaT                             2013 06   \n",
       "3169                     2018-02-08                             2013 06   \n",
       "\n",
       "         Papelizados  count  \n",
       "396   Não Papelizado      1  \n",
       "1803  Não Papelizado      1  \n",
       "2971  Não Papelizado      1  \n",
       "2988  Não Papelizado      1  \n",
       "3169  Não Papelizado      1  "
      ]
     },
     "execution_count": 8,
     "metadata": {},
     "output_type": "execute_result"
    }
   ],
   "source": [
    "atividades__concluidas_sem_dt_conclusao = (df['Data de Conclusão da atividade'].isnull())&(df['Status da Atividade']=='Concluída')\n",
    "prop_sem_dt = atividades__concluidas_sem_dt_conclusao.sum()/len(df)\n",
    "print(f'Proporção de atividades concluídas sem data é de {prop_sem_dt}')\n",
    "df[atividades__concluidas_sem_dt_conclusao].head()\n"
   ]
  },
  {
   "cell_type": "code",
   "execution_count": 9,
   "metadata": {},
   "outputs": [
    {
     "name": "stdout",
     "output_type": "stream",
     "text": [
      "O tamanho final do dataset é 111167 registros.\n"
     ]
    }
   ],
   "source": [
    "#abaixo, filtramos o dataset, removendo as ações concluidas sem data de conclusão\n",
    "df = df[~atividades__concluidas_sem_dt_conclusao].copy().reset_index(drop = True)\n",
    "print(f'O tamanho final do dataset é {len(df)} registros.')"
   ]
  },
  {
   "cell_type": "markdown",
   "metadata": {},
   "source": [
    "# Análise I - Quantidade esperada de duplicações por protocolo"
   ]
  },
  {
   "cell_type": "markdown",
   "metadata": {},
   "source": [
    "Uma vez obtido o _dataset_ que contém os dados que desejamos, isto é, _a relação de todas as ações realizadas no  SLCe por usuários da Prefeitura, ocorridas no período entre outubro de 2012 e agosto de 2018, e que acarretaram em duplicação de arquivos no sistema_, podemos prosseguir para a análise. Neste primeiro bloco, procederemos à agregação da quantidade de ações que geraram duplicação por protocolo do sistema. Com isso, buscamos identificar uma medida que nos permita definir uma quantidade esperada de duplicações por protocolo."
   ]
  },
  {
   "cell_type": "markdown",
   "metadata": {},
   "source": [
    "Abaixo, seleiconameos apenas as colunas de \"Número de Protocolo\" e o contador \"count\", que vale 1 para todos os registros. O _dataset_ assim filtrado é então agregado por protocolo, identificando a quantidade exata de ações que geraram duplicação realizadas para cada protocolo no período considerado."
   ]
  },
  {
   "cell_type": "code",
   "execution_count": 10,
   "metadata": {},
   "outputs": [
    {
     "data": {
      "text/html": [
       "<div>\n",
       "<style scoped>\n",
       "    .dataframe tbody tr th:only-of-type {\n",
       "        vertical-align: middle;\n",
       "    }\n",
       "\n",
       "    .dataframe tbody tr th {\n",
       "        vertical-align: top;\n",
       "    }\n",
       "\n",
       "    .dataframe thead th {\n",
       "        text-align: right;\n",
       "    }\n",
       "</style>\n",
       "<table border=\"1\" class=\"dataframe\">\n",
       "  <thead>\n",
       "    <tr style=\"text-align: right;\">\n",
       "      <th></th>\n",
       "      <th>count</th>\n",
       "    </tr>\n",
       "    <tr>\n",
       "      <th>Número do Protocolo</th>\n",
       "      <th></th>\n",
       "    </tr>\n",
       "  </thead>\n",
       "  <tbody>\n",
       "    <tr>\n",
       "      <td>32638-15</td>\n",
       "      <td>33</td>\n",
       "    </tr>\n",
       "    <tr>\n",
       "      <td>6561-12</td>\n",
       "      <td>32</td>\n",
       "    </tr>\n",
       "    <tr>\n",
       "      <td>9913-13</td>\n",
       "      <td>30</td>\n",
       "    </tr>\n",
       "    <tr>\n",
       "      <td>5922-13</td>\n",
       "      <td>27</td>\n",
       "    </tr>\n",
       "    <tr>\n",
       "      <td>9924-13</td>\n",
       "      <td>27</td>\n",
       "    </tr>\n",
       "  </tbody>\n",
       "</table>\n",
       "</div>"
      ],
      "text/plain": [
       "                     count\n",
       "Número do Protocolo       \n",
       "32638-15                33\n",
       "6561-12                 32\n",
       "9913-13                 30\n",
       "5922-13                 27\n",
       "9924-13                 27"
      ]
     },
     "execution_count": 10,
     "metadata": {},
     "output_type": "execute_result"
    }
   ],
   "source": [
    "qtd_atividades_protocolo = df[['Número do Protocolo', 'count']].groupby('Número do Protocolo').count()\n",
    "qtd_atividades_protocolo.sort_values(by = 'count', ascending = False).head()\n"
   ]
  },
  {
   "cell_type": "code",
   "execution_count": 11,
   "metadata": {},
   "outputs": [
    {
     "data": {
      "text/html": [
       "<div>\n",
       "<style scoped>\n",
       "    .dataframe tbody tr th:only-of-type {\n",
       "        vertical-align: middle;\n",
       "    }\n",
       "\n",
       "    .dataframe tbody tr th {\n",
       "        vertical-align: top;\n",
       "    }\n",
       "\n",
       "    .dataframe thead th {\n",
       "        text-align: right;\n",
       "    }\n",
       "</style>\n",
       "<table border=\"1\" class=\"dataframe\">\n",
       "  <thead>\n",
       "    <tr style=\"text-align: right;\">\n",
       "      <th></th>\n",
       "      <th>count</th>\n",
       "    </tr>\n",
       "    <tr>\n",
       "      <th>Número do Protocolo</th>\n",
       "      <th></th>\n",
       "    </tr>\n",
       "  </thead>\n",
       "  <tbody>\n",
       "    <tr>\n",
       "      <td>36025-15</td>\n",
       "      <td>1</td>\n",
       "    </tr>\n",
       "    <tr>\n",
       "      <td>24121-15</td>\n",
       "      <td>1</td>\n",
       "    </tr>\n",
       "    <tr>\n",
       "      <td>36022-16</td>\n",
       "      <td>1</td>\n",
       "    </tr>\n",
       "    <tr>\n",
       "      <td>24122-15</td>\n",
       "      <td>1</td>\n",
       "    </tr>\n",
       "    <tr>\n",
       "      <td>17258-17</td>\n",
       "      <td>1</td>\n",
       "    </tr>\n",
       "  </tbody>\n",
       "</table>\n",
       "</div>"
      ],
      "text/plain": [
       "                     count\n",
       "Número do Protocolo       \n",
       "36025-15                 1\n",
       "24121-15                 1\n",
       "36022-16                 1\n",
       "24122-15                 1\n",
       "17258-17                 1"
      ]
     },
     "execution_count": 11,
     "metadata": {},
     "output_type": "execute_result"
    }
   ],
   "source": [
    "qtd_atividades_protocolo.sort_values(by = 'count', ascending = False).tail()"
   ]
  },
  {
   "cell_type": "markdown",
   "metadata": {},
   "source": [
    "Notamos que há, com efeito, protocolos que tiveram quantidade elevada de duplicações, enquanto outros possuem apenas uma. Cumpre nos aprofundar nas estatísticas descritivas para compreender melhor esta distribuição. Como veremos abaixo, essa distribuição não se aproxima de uma distribuição normal, sendo necessário utilizar outras medidas de tendência central que não a média para se aproximar de um valor esperado da quantidade de duplicações por protocolo."
   ]
  },
  {
   "cell_type": "code",
   "execution_count": 12,
   "metadata": {},
   "outputs": [],
   "source": [
    "descritivo = qtd_atividades_protocolo.describe()"
   ]
  },
  {
   "cell_type": "code",
   "execution_count": 13,
   "metadata": {},
   "outputs": [
    {
     "data": {
      "text/html": [
       "<div>\n",
       "<style scoped>\n",
       "    .dataframe tbody tr th:only-of-type {\n",
       "        vertical-align: middle;\n",
       "    }\n",
       "\n",
       "    .dataframe tbody tr th {\n",
       "        vertical-align: top;\n",
       "    }\n",
       "\n",
       "    .dataframe thead th {\n",
       "        text-align: right;\n",
       "    }\n",
       "</style>\n",
       "<table border=\"1\" class=\"dataframe\">\n",
       "  <thead>\n",
       "    <tr style=\"text-align: right;\">\n",
       "      <th></th>\n",
       "      <th>count</th>\n",
       "    </tr>\n",
       "  </thead>\n",
       "  <tbody>\n",
       "    <tr>\n",
       "      <td>count</td>\n",
       "      <td>43080.000000</td>\n",
       "    </tr>\n",
       "    <tr>\n",
       "      <td>mean</td>\n",
       "      <td>2.580478</td>\n",
       "    </tr>\n",
       "    <tr>\n",
       "      <td>std</td>\n",
       "      <td>2.080803</td>\n",
       "    </tr>\n",
       "    <tr>\n",
       "      <td>min</td>\n",
       "      <td>1.000000</td>\n",
       "    </tr>\n",
       "    <tr>\n",
       "      <td>25%</td>\n",
       "      <td>1.000000</td>\n",
       "    </tr>\n",
       "    <tr>\n",
       "      <td>50%</td>\n",
       "      <td>2.000000</td>\n",
       "    </tr>\n",
       "    <tr>\n",
       "      <td>75%</td>\n",
       "      <td>3.000000</td>\n",
       "    </tr>\n",
       "    <tr>\n",
       "      <td>max</td>\n",
       "      <td>33.000000</td>\n",
       "    </tr>\n",
       "  </tbody>\n",
       "</table>\n",
       "</div>"
      ],
      "text/plain": [
       "              count\n",
       "count  43080.000000\n",
       "mean       2.580478\n",
       "std        2.080803\n",
       "min        1.000000\n",
       "25%        1.000000\n",
       "50%        2.000000\n",
       "75%        3.000000\n",
       "max       33.000000"
      ]
     },
     "execution_count": 13,
     "metadata": {},
     "output_type": "execute_result"
    }
   ],
   "source": [
    "descritivo"
   ]
  },
  {
   "cell_type": "code",
   "execution_count": 14,
   "metadata": {},
   "outputs": [
    {
     "data": {
      "text/plain": [
       "<matplotlib.axes._subplots.AxesSubplot at 0x27e41350108>"
      ]
     },
     "execution_count": 14,
     "metadata": {},
     "output_type": "execute_result"
    },
    {
     "data": {
      "image/png": "[encoded data removed]",
      "text/plain": [
       "<Figure size 432x288 with 1 Axes>"
      ]
     },
     "metadata": {
      "needs_background": "light"
     },
     "output_type": "display_data"
    }
   ],
   "source": [
    "qtd_atividades_protocolo.plot.hist(bins = 50, title = 'Histograma - Duplicações por Protocolo')"
   ]
  },
  {
   "cell_type": "markdown",
   "metadata": {},
   "source": [
    "As estatísticas descritivas e o histograma apresentado acima indicam que se trata de uma distribuição assimétrica, que não se aproxima da curva normal. "
   ]
  },
  {
   "cell_type": "code",
   "execution_count": 15,
   "metadata": {},
   "outputs": [],
   "source": [
    "c = qtd_atividades_protocolo['count']"
   ]
  },
  {
   "cell_type": "code",
   "execution_count": 16,
   "metadata": {},
   "outputs": [
    {
     "data": {
      "text/plain": [
       "1     17354\n",
       "2      9376\n",
       "3      6146\n",
       "4      4102\n",
       "5      2445\n",
       "6      1484\n",
       "7       871\n",
       "8       474\n",
       "9       292\n",
       "10      195\n",
       "11      111\n",
       "12       74\n",
       "13       45\n",
       "14       28\n",
       "15       20\n",
       "16       18\n",
       "17        8\n",
       "18        7\n",
       "20        7\n",
       "19        5\n",
       "22        5\n",
       "21        3\n",
       "27        2\n",
       "25        2\n",
       "26        2\n",
       "33        1\n",
       "30        1\n",
       "24        1\n",
       "32        1\n",
       "Name: count, dtype: int64"
      ]
     },
     "execution_count": 16,
     "metadata": {},
     "output_type": "execute_result"
    }
   ],
   "source": [
    "c.value_counts()"
   ]
  },
  {
   "cell_type": "code",
   "execution_count": 17,
   "metadata": {},
   "outputs": [
    {
     "data": {
      "text/plain": [
       "Text(0.5, 1.0, 'BoxPlot - Duplicações por Protocolo')"
      ]
     },
     "execution_count": 17,
     "metadata": {},
     "output_type": "execute_result"
    },
    {
     "data": {
      "image/png": "[encoded data removed]",
      "text/plain": [
       "<Figure size 432x288 with 1 Axes>"
      ]
     },
     "metadata": {
      "needs_background": "light"
     },
     "output_type": "display_data"
    }
   ],
   "source": [
    "sns.boxplot(c).set_title('BoxPlot - Duplicações por Protocolo')"
   ]
  },
  {
   "cell_type": "markdown",
   "metadata": {},
   "source": [
    "A hipótese aventada acima é corroborada pelo olhar mais detalhado aos _value counts_ do _dataset_, assim como pela análise do _boxplot_, que indica alta concentração à esquerda do eixo horizontal, com valores maiores que zero mais próximo dele, e uma quantidade elevada de outliers á direita neste eixo.\n",
    "\n",
    "Abaixo, realizamos os testes estatísticos para confirmar a hipótese de que se trata de uma distribuição assimétrica, não-normal."
   ]
  },
  {
   "cell_type": "code",
   "execution_count": 18,
   "metadata": {},
   "outputs": [],
   "source": [
    "from scipy.stats import kurtosis, skew, normaltest"
   ]
  },
  {
   "cell_type": "code",
   "execution_count": 19,
   "metadata": {},
   "outputs": [
    {
     "data": {
      "text/plain": [
       "12.419819677384854"
      ]
     },
     "execution_count": 19,
     "metadata": {},
     "output_type": "execute_result"
    }
   ],
   "source": [
    "kurtosis(c)"
   ]
  },
  {
   "cell_type": "code",
   "execution_count": 20,
   "metadata": {},
   "outputs": [
    {
     "data": {
      "text/plain": [
       "2.502917309230294"
      ]
     },
     "execution_count": 20,
     "metadata": {},
     "output_type": "execute_result"
    }
   ],
   "source": [
    "skew(c)"
   ]
  },
  {
   "cell_type": "code",
   "execution_count": 21,
   "metadata": {},
   "outputs": [
    {
     "data": {
      "text/plain": [
       "NormaltestResult(statistic=24605.116993127573, pvalue=0.0)"
      ]
     },
     "execution_count": 21,
     "metadata": {},
     "output_type": "execute_result"
    }
   ],
   "source": [
    "normaltest(c)"
   ]
  },
  {
   "cell_type": "markdown",
   "metadata": {},
   "source": [
    "Conforme resultado do teste acima, com um p-valor próximo a zero, podemos então rejeitar a hipótese nula de que a distribuição é normal.\n",
    "\n",
    "De fato, conforme perfil visualisado no histograma, trata-se de uma distribuição assimétrica positiva platicúrtiva, de perfil do tipo \"calda longa\" positiva.\n",
    "\n",
    "Assim, podemos concluir que a medida de tendência central mais adequada ao tipo de distribuição não é a média, mas a __mediana__, que é apresentada abaixo."
   ]
  },
  {
   "cell_type": "code",
   "execution_count": 22,
   "metadata": {},
   "outputs": [
    {
     "name": "stdout",
     "output_type": "stream",
     "text": [
      "Concluímos, portanto, que o valor esperado de ações que geram duplicações por protocolo é 2.0\n"
     ]
    }
   ],
   "source": [
    "esperado = c.median()\n",
    "print(f'Concluímos, portanto, que o valor esperado de ações que geram duplicações por protocolo é {esperado}')"
   ]
  },
  {
   "cell_type": "markdown",
   "metadata": {},
   "source": [
    "Se considerarmos que a primeira dessas ações registra o _snapshot_ inicial dos arquivos, enquanto todas as ações subsequentes resultam na replicação do conteúdo dos mesmos, isso significa que __cada protocolo no SLCe tende a ocupar o _dobro de espaço em disco_, no que diz respeito à armazenagem de arquivos, do que deveria__."
   ]
  },
  {
   "cell_type": "markdown",
   "metadata": {},
   "source": [
    "## Análise 2 - Taxa de duplicação estimada do banco de dados (armazenagem de arquivos)"
   ]
  },
  {
   "cell_type": "markdown",
   "metadata": {},
   "source": [
    "Uma vez identificada a quantidade esperada de duplicações por protocolo, podemos prosseguir à próxima etapa da análise.\n",
    "\n",
    "Neste bloco, buscamos estimar a taxa de duplicação do banco de dados. Nosso objeto de análise é, nesta etapa, a armazenagem de arquivos do banco de dados como um todo, e não mais os protocolos individuais.  A lógica que subjaz esta análise se baseia nas seguintes pré-condições, confirmadas pela equipe de SLCe:\n",
    "\n",
    "* Todas as ações constantes no _dataset_ aqui utilizado geraram duplicações de arquivos no banco de dados;\n",
    "* Nenhum arquivo anexado a um protocolo pode ser removido/deletado do banco de dados, apenas novos arquivos podem ser acrescentados;\n",
    "* Todo protocolo que foi protocolado com sucesso no sistema contém uma quantidade X de arquivos iniciais, que serão mantidos no banco de dados ao longo da análise (e duplicados sempre que ocorrerem as ações aqui consideradas).\n",
    "\n",
    "Deste modo, podemos identificar uma quantidade - identificada pela variável _qtd_originais_ -  que corresponde à quantidade total de lotes de arquivos originais por protocolo. Não nos importa aqui a quantidade exata de arquivos originais por protocolo, tampouco o volume dos mesmos: o que observamos é que há um conjunto, cujo número de membros é identificado pela variável _qtd_originais_, que corresponde aos lotes de arquivos originais de cada protocolo. Como todo protocolo que foi protocolado no sistema deve conter um - e apenas um -  lote de arquivos iniciais, este conjunto corresponde à __quantidade de protocolos únicos protocolados no sistema__.\n",
    "\n",
    "Para identificarmos as replicações que ocorreram no sistema no período da análise (out/2012 a ago/2018), basta subtrair, da quantidade total de ações que geraram duplicações (variável _qtd_duplicadas_ - que corresponde também ao total de lotes de arquivos no sistema), a quantidade de lotes de arquivos originais, identificava pela variável _qtd_originais_. É com base nesta metodologia que os cálculos abaixo são realizados.\n",
    "\n",
    "\n",
    "\n"
   ]
  },
  {
   "cell_type": "code",
   "execution_count": 23,
   "metadata": {},
   "outputs": [],
   "source": [
    "total_acoes = len(df)"
   ]
  },
  {
   "cell_type": "code",
   "execution_count": 24,
   "metadata": {},
   "outputs": [
    {
     "name": "stdout",
     "output_type": "stream",
     "text": [
      "A quantidade de lotes de arquivos originais é  de 43080 lotes\n"
     ]
    }
   ],
   "source": [
    "qtd_originais = len(df['Número do Protocolo'].unique())\n",
    "\n",
    "print(f'A quantidade de lotes de arquivos originais é  de {qtd_originais} lotes')"
   ]
  },
  {
   "cell_type": "code",
   "execution_count": 25,
   "metadata": {},
   "outputs": [
    {
     "name": "stdout",
     "output_type": "stream",
     "text": [
      "A quantidade de lotes que contém arquivos replicados no banco de dados é de 68087 lotes\n"
     ]
    }
   ],
   "source": [
    "qtd_duplicadas = total_acoes-qtd_originais\n",
    "print(f'A quantidade de lotes que contém arquivos replicados no banco de dados é de {qtd_duplicadas} lotes')"
   ]
  },
  {
   "cell_type": "code",
   "execution_count": 26,
   "metadata": {},
   "outputs": [
    {
     "name": "stdout",
     "output_type": "stream",
     "text": [
      "A proporção de lotes duplicados sobre o total de lotes no banco de dados é de 61.25%\n"
     ]
    }
   ],
   "source": [
    "prop_duplicadas = qtd_duplicadas/total_acoes\n",
    "print(f'A proporção de lotes duplicados sobre o total de lotes no banco de dados é de {prop_duplicadas:.2%}')"
   ]
  },
  {
   "cell_type": "code",
   "execution_count": 27,
   "metadata": {},
   "outputs": [
    {
     "name": "stdout",
     "output_type": "stream",
     "text": [
      "A proporção de lotes com arquivos originais sobre o total de lotes no banco de dados é de 38.75%\n"
     ]
    }
   ],
   "source": [
    "prop_arquivos_unicos = qtd_originais/total_acoes\n",
    "print(f'A proporção de lotes com arquivos originais sobre o total de lotes no banco de dados é de {prop_arquivos_unicos:.2%}')"
   ]
  },
  {
   "cell_type": "code",
   "execution_count": 28,
   "metadata": {},
   "outputs": [
    {
     "data": {
      "text/plain": [
       "True"
      ]
     },
     "execution_count": 28,
     "metadata": {},
     "output_type": "execute_result"
    }
   ],
   "source": [
    "(prop_arquivos_unicos + prop_duplicadas) == 1"
   ]
  },
  {
   "cell_type": "markdown",
   "metadata": {},
   "source": [
    "Desta forma, podemos concluir que, caso seja realizada a deduplicação do banco de dados, este tende a __ser reduzido a menos de 40% de seu volume atual__."
   ]
  },
  {
   "cell_type": "markdown",
   "metadata": {},
   "source": [
    "## Análise 3 - Projeção da quantidade de lotes atual e previsão do total de lotes a ser afetado pela desduplicação"
   ]
  },
  {
   "cell_type": "markdown",
   "metadata": {},
   "source": [
    "Nesta seção, realizamos uma análise de série temporal, identificando a tendência de crescimento, ao longo do tempo, do total de lotes de arquivos no banco de dados do sistema SLCe. Para isso, construímos a série temporal com a quantidade acumulada de ações de replicação ao longo do tempo, no período compreendido entre outubro de 2012 e agosto de 2018.\n",
    "\n",
    "Sobre esta série temporal, projetamos uma regressão linear simples. O modelo ajustado, que possui significância estatística, é então utilizado para prever o total de lotes de arquivos no sistema hoje.\n",
    "\n",
    "Este total de lotes é, por fim, multiplicado pela proporção de lotes duplicados no período 2012-2018, conforme seção anterior, para gerar uma _proxy_ da quantidade total de lotes de arquivos a ser afetada pela desduplicação."
   ]
  },
  {
   "cell_type": "markdown",
   "metadata": {},
   "source": [
    "Nas células abaixo, ordenamos o _dataset_ a partir da \"Data de Conclusão\" das atividades.\n",
    "Em seguida, agrupamos a quantidade de atividades realizadas por dia e geramos uma variável no _dataset_ que contém a soma cumulativa da quantidade de ações de replicações (que é, por sua vez, igual à quantidade de lotes de arquivos) no sistema ao longo do tempo.\n",
    "\n",
    "Essa série temporal é então plotada, revelando uma clara linha de tendência."
   ]
  },
  {
   "cell_type": "code",
   "execution_count": 29,
   "metadata": {},
   "outputs": [],
   "source": [
    "df.sort_values(by = 'Data de Conclusão da atividade', inplace = True)\n",
    "df.reset_index(drop = True, inplace = True)"
   ]
  },
  {
   "cell_type": "code",
   "execution_count": 30,
   "metadata": {},
   "outputs": [],
   "source": [
    "atividades_dia = df.groupby('Data de Conclusão da atividade').count()[['count']]"
   ]
  },
  {
   "cell_type": "code",
   "execution_count": 31,
   "metadata": {},
   "outputs": [],
   "source": [
    "atividades_dia['replicacoes_cumulativas'] = atividades_dia['count'].cumsum()"
   ]
  },
  {
   "cell_type": "code",
   "execution_count": 32,
   "metadata": {},
   "outputs": [
    {
     "data": {
      "text/plain": [
       "<matplotlib.axes._subplots.AxesSubplot at 0x27e40634608>"
      ]
     },
     "execution_count": 32,
     "metadata": {},
     "output_type": "execute_result"
    },
    {
     "data": {
      "image/png": "[encoded data removed]",
      "text/plain": [
       "<Figure size 432x288 with 1 Axes>"
      ]
     },
     "metadata": {
      "needs_background": "light"
     },
     "output_type": "display_data"
    }
   ],
   "source": [
    "atividades_dia['replicacoes_cumulativas'].plot(title = 'Quantidade acumulada de replicações x Tempo')"
   ]
  },
  {
   "cell_type": "markdown",
   "metadata": {},
   "source": [
    "Nas células abaixo, criamos uma nova variável no _dataset_ da série temporal criado anteriormente. Esta variável busca representar a quantidade de dias passados desde o primeiro registro da base de dados até o dia de conclusão da ação em questão."
   ]
  },
  {
   "cell_type": "code",
   "execution_count": 33,
   "metadata": {},
   "outputs": [],
   "source": [
    "atividades_dia['dias_passados'] = 0\n",
    "primeiro_dia = atividades_dia.index.min()\n",
    "for i, row in atividades_dia.iterrows():\n",
    "    atividades_dia.loc[i, 'dias_passados'] = (i - primeiro_dia).days"
   ]
  },
  {
   "cell_type": "code",
   "execution_count": 34,
   "metadata": {},
   "outputs": [
    {
     "data": {
      "text/plain": [
       "True"
      ]
     },
     "execution_count": 34,
     "metadata": {},
     "output_type": "execute_result"
    }
   ],
   "source": [
    "#abaixo, checamos para ver se o cálculo foi feito corretamente\n",
    "((df['Data de Conclusão da atividade'].max() - df['Data de Conclusão da atividade'].min()).days) == atividades_dia.iloc[-1]['dias_passados']"
   ]
  },
  {
   "cell_type": "markdown",
   "metadata": {},
   "source": [
    "Abaixo, é realizada a modelagem estatística (Regressão Linear Simples). Como se pode notar, a modelagem é um sucesso, alcançando significância estatística (p-valor próximo a 0) e um excelente coeficiente de determinação (99%)."
   ]
  },
  {
   "cell_type": "code",
   "execution_count": 35,
   "metadata": {},
   "outputs": [],
   "source": [
    "from sklearn.linear_model import LinearRegression\n",
    "from sklearn.metrics import mean_absolute_error, r2_score\n",
    "from sklearn.model_selection import train_test_split\n",
    "from scipy.stats import linregress"
   ]
  },
  {
   "cell_type": "markdown",
   "metadata": {},
   "source": [
    "Para calcular a significância estatística de um modelo linear para os dados em questão, utilizamos uma abordagem da estatística clássica, implementada no módulo scipy."
   ]
  },
  {
   "cell_type": "code",
   "execution_count": 36,
   "metadata": {},
   "outputs": [
    {
     "name": "stdout",
     "output_type": "stream",
     "text": [
      "Pelos métodos estatísticos clássicos, a regressão linear possui p-valor 0.0\n",
      "A modelagem possui significância estatística\n"
     ]
    }
   ],
   "source": [
    "_, _, _, p_value, _ = linregress(atividades_dia['dias_passados'],\n",
    "                                                         atividades_dia['replicacoes_cumulativas'])\n",
    "\n",
    "print(f'Pelos métodos estatísticos clássicos, a regressão linear possui p-valor {p_value}')\n",
    "\n",
    "if p_value < 0.001:\n",
    "    print('A modelagem possui significância estatística')"
   ]
  },
  {
   "cell_type": "markdown",
   "metadata": {},
   "source": [
    "Em seguida, para realizar o ajuste do modelo propriamente dito, utilizamos técnicas mais modernas de machine learning. Como se pode ver, o modelo encontra excelente performance nos dados de teste, com um alto coeficiente de determinação (99%)."
   ]
  },
  {
   "cell_type": "code",
   "execution_count": 37,
   "metadata": {},
   "outputs": [],
   "source": [
    "X_train, X_test, y_train, y_test = train_test_split(np.array(atividades_dia['dias_passados']).reshape(-1, 1)\n",
    "                                                    , np.array(atividades_dia['replicacoes_cumulativas']), \n",
    "                                                    test_size=0.33, random_state=42)"
   ]
  },
  {
   "cell_type": "code",
   "execution_count": 38,
   "metadata": {},
   "outputs": [
    {
     "data": {
      "text/plain": [
       "LinearRegression(copy_X=True, fit_intercept=True, n_jobs=None, normalize=False)"
      ]
     },
     "execution_count": 38,
     "metadata": {},
     "output_type": "execute_result"
    }
   ],
   "source": [
    "regr = LinearRegression(fit_intercept=True)\n",
    "regr.fit(X=X_train,\n",
    "         y = y_train)"
   ]
  },
  {
   "cell_type": "code",
   "execution_count": 39,
   "metadata": {},
   "outputs": [
    {
     "name": "stdout",
     "output_type": "stream",
     "text": [
      "O coeficiente linear é: \n",
      " 59.5903548185481\n",
      "O erro absoluto médio é: 2721.11\n",
      "O coeficiente de determinação é: 0.99\n"
     ]
    }
   ],
   "source": [
    "# Make predictions using the testing set\n",
    "y_pred = regr.predict(X_test)\n",
    "\n",
    "# The coefficients\n",
    "print('O coeficiente linear é: \\n', regr.coef_[0])\n",
    "# The mean squared error\n",
    "print('O erro absoluto médio é: %.2f'\n",
    "      % mean_absolute_error(y_test, y_pred))\n",
    "# The coefficient of determination: 1 is perfect prediction\n",
    "print('O coeficiente de determinação é: %.2f'\n",
    "      % r2_score(y_test, y_pred))\n"
   ]
  },
  {
   "cell_type": "markdown",
   "metadata": {},
   "source": [
    "A boa performance do modelo pode ser visualizada na plotagem abaixo, que compara a predição do modelo (em vermelho) com os dados de teste originais (em azul)."
   ]
  },
  {
   "cell_type": "code",
   "execution_count": 40,
   "metadata": {},
   "outputs": [
    {
     "data": {
      "image/png": "[encoded data removed]",
      "text/plain": [
       "<Figure size 432x288 with 1 Axes>"
      ]
     },
     "metadata": {
      "needs_background": "light"
     },
     "output_type": "display_data"
    }
   ],
   "source": [
    "# Abaixo, vamos plotar o ajuste do modelo aos dados de teste\n",
    "plt.scatter(X_test, y_test,  color='blue')\n",
    "plt.plot(X_test, y_pred, color='red', linewidth=2)\n",
    "plt.xlabel('Dias passados')\n",
    "plt.ylabel('Replicações ocorridas')\n",
    "plt.title('Ajuste do Modelo - Regressão Linear')\n",
    "plt.show()"
   ]
  },
  {
   "cell_type": "markdown",
   "metadata": {},
   "source": [
    "Uma vez comprovada a validade do modelo, seguimos para a projeção: aqui, buscamos projetar a quantidade total de lotes de arquivo no sistema atualmente."
   ]
  },
  {
   "cell_type": "code",
   "execution_count": 41,
   "metadata": {},
   "outputs": [
    {
     "data": {
      "text/plain": [
       "Text(0.5, 1.0, 'Projeção - Lotes de arquivos no sistema hoje')"
      ]
     },
     "execution_count": 41,
     "metadata": {},
     "output_type": "execute_result"
    },
    {
     "data": {
      "image/png": "[encoded data removed]",
      "text/plain": [
       "<Figure size 432x288 with 1 Axes>"
      ]
     },
     "metadata": {
      "needs_background": "light"
     },
     "output_type": "display_data"
    }
   ],
   "source": [
    "hoje = pd.to_datetime(\"today\").date()\n",
    "dias_ate_hoje = (hoje - dt_ini.date()).days\n",
    "array_dias_ate_hoje = np.array([i for i in range(0, dias_ate_hoje)]).reshape(-1, 1)\n",
    "predict_ate_hoje = regr.predict(array_dias_ate_hoje)\n",
    "plt.scatter(X_test, y_test,  color='blue')\n",
    "plt.xlabel('Dias passados')\n",
    "plt.ylabel('Replicações ocorridas')\n",
    "plt.plot(array_dias_ate_hoje, predict_ate_hoje, color='green', linewidth=2)\n",
    "plt.title('Projeção - Lotes de arquivos no sistema hoje')"
   ]
  },
  {
   "cell_type": "code",
   "execution_count": 42,
   "metadata": {},
   "outputs": [
    {
     "name": "stdout",
     "output_type": "stream",
     "text": [
      "O total projetado de lotes de arquivos no sistema hoje é de 159250.0\n"
     ]
    }
   ],
   "source": [
    "lotes_hoje = round(predict_ate_hoje[-1])\n",
    "print(f'O total projetado de lotes de arquivos no sistema hoje é de {lotes_hoje}')"
   ]
  },
  {
   "cell_type": "markdown",
   "metadata": {},
   "source": [
    "Como vimos anteriormente, a proporção de lotes duplicados no sistema é de aproximadamente 60%.Para identificar a quantidade estimada de lotes que serão afetados pela desduplicação, multiplicamos então a quantidade projetada de lotes pela proporção de lotes duplicados no sistema. "
   ]
  },
  {
   "cell_type": "code",
   "execution_count": 43,
   "metadata": {},
   "outputs": [
    {
     "data": {
      "text/plain": [
       "97537.0"
      ]
     },
     "execution_count": 43,
     "metadata": {},
     "output_type": "execute_result"
    }
   ],
   "source": [
    "round(lotes_hoje * prop_duplicadas)"
   ]
  },
  {
   "cell_type": "markdown",
   "metadata": {},
   "source": [
    "Vemos assim que aproximadamente 100 mil lotes serão afetados pela desduplicação."
   ]
  },
  {
   "cell_type": "code",
   "execution_count": null,
   "metadata": {},
   "outputs": [],
   "source": []
  }
 ],
 "metadata": {
  "kernelspec": {
   "display_name": "Python 3",
   "language": "python",
   "name": "python3"
  },
  "language_info": {
   "codemirror_mode": {
    "name": "ipython",
    "version": 3
   },
   "file_extension": ".py",
   "mimetype": "text/x-python",
   "name": "python",
   "nbconvert_exporter": "python",
   "pygments_lexer": "ipython3",
   "version": "3.7.4"
  }
 },
 "nbformat": 4,
 "nbformat_minor": 4
}
